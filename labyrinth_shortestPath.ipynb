{
 "cells": [
  {
   "cell_type": "code",
   "execution_count": 101,
   "metadata": {},
   "outputs": [
    {
     "name": "stdout",
     "output_type": "stream",
     "text": [
      "Dimensions are: 5×5\n"
     ]
    }
   ],
   "source": [
    "labyrinth = [\n",
    "    [1,0,0,0,0],\n",
    "    [1,1,1,1,0],\n",
    "    [0,1,1,1,0],\n",
    "    [0,1,1,1,0],\n",
    "    [0,0,0,1,1]\n",
    "]\n",
    "\n",
    "print(f\"Dimensions are: {len(labyrinth)}×{len(labyrinth[0])}\")"
   ]
  },
  {
   "cell_type": "code",
   "execution_count": 9,
   "metadata": {},
   "outputs": [],
   "source": [
    "from queue import Queue"
   ]
  },
  {
   "cell_type": "code",
   "execution_count": 55,
   "metadata": {},
   "outputs": [],
   "source": [
    "# This function abstracts the “neibourhood structure”.\n",
    "# So you can use the same BFS code snippet for graphs,\n",
    "# labyrinths and so on, by employing \n",
    "# different get_all_neighbours functions.\n",
    "def get_all_neighbours(labyrinth, cell):\n",
    "    i, j = cell\n",
    "    neighbours = set()\n",
    "    if i + 1 < len(labyrinth) and labyrinth[i+1][j] != 0:\n",
    "        neighbours.add((i+1, j))\n",
    "    if i - 1 >= 0 and labyrinth[i-1][j] != 0:\n",
    "        neighbours.add((i-1, j))\n",
    "    if j + 1 < len(labyrinth[0]) and labyrinth[i][j+1] != 0:\n",
    "        neighbours.add((i, j+1))\n",
    "    if j - 1 >= 0 and labyrinth[i][j-1] != 0:\n",
    "        neighbours.add((i, j-1))\n",
    "    return neighbours"
   ]
  },
  {
   "cell_type": "code",
   "execution_count": 54,
   "metadata": {},
   "outputs": [
    {
     "data": {
      "text/plain": [
       "{(1, 2), (1, 4)}"
      ]
     },
     "execution_count": 54,
     "metadata": {},
     "output_type": "execute_result"
    }
   ],
   "source": [
    "get_all_neighbours(labyrinth, (1, 3))"
   ]
  },
  {
   "cell_type": "code",
   "execution_count": 70,
   "metadata": {},
   "outputs": [],
   "source": [
    "def is_reachable_bfs(labyrinth, source, target):\n",
    "    reachable_cells = set()\n",
    "    queued_cells = set()\n",
    "    cells_to_scan = Queue()\n",
    "    cells_to_scan.put(source)\n",
    "    queued_cells.add(source)\n",
    "    while not cells_to_scan.empty() and target not in reachable_cells:\n",
    "        cell = cells_to_scan.get()\n",
    "        print(cell)\n",
    "        reachable_cells.add(cell)\n",
    "        for neighbor in get_all_neighbours(labyrinth, cell):\n",
    "            if neighbor not in reachable_cells and neighbor not in queued_cells:\n",
    "                cells_to_scan.put(neighbor)\n",
    "                queued_cells.add(neighbor)\n",
    "        \n",
    "    return (target in reachable_cells)"
   ]
  },
  {
   "cell_type": "code",
   "execution_count": 71,
   "metadata": {},
   "outputs": [],
   "source": [
    "def is_reachable_dfs(labyrinth, source, target):\n",
    "    reachable_cells = set()\n",
    "    stacked_cells = set()\n",
    "    cells_to_scan = []\n",
    "    cells_to_scan.append(source)\n",
    "    stacked_cells.add(source)\n",
    "    while len(cells_to_scan) > 0 and target not in reachable_cells:\n",
    "        cell = cells_to_scan.pop()\n",
    "        print(cell)\n",
    "        reachable_cells.add(cell)\n",
    "        for neighbor in get_all_neighbours(labyrinth, cell):\n",
    "            if neighbor not in reachable_cells and neighbor not in stacked_cells:\n",
    "                cells_to_scan.append(neighbor)\n",
    "                stacked_cells.add(neighbor)\n",
    "        \n",
    "    return (target in reachable_cells)"
   ]
  },
  {
   "cell_type": "code",
   "execution_count": 74,
   "metadata": {},
   "outputs": [
    {
     "name": "stdout",
     "output_type": "stream",
     "text": [
      "(0, 0)\n",
      "(1, 0)\n",
      "(2, 0)\n",
      "(3, 0)\n",
      "(3, 1)\n",
      "(4, 0)\n",
      "(3, 2)\n",
      "(3, 3)\n",
      "(2, 2)\n",
      "(3, 4)\n",
      "(4, 3)\n",
      "(1, 2)\n",
      "(4, 4)\n",
      "(1, 3)\n",
      "(1, 4)\n",
      "(0, 4)\n"
     ]
    },
    {
     "data": {
      "text/plain": [
       "True"
      ]
     },
     "execution_count": 74,
     "metadata": {},
     "output_type": "execute_result"
    }
   ],
   "source": [
    "# is_reachable_bfs(\n",
    "#     labyrinth, \n",
    "#     (0,0), \n",
    "#     (0,4)\n",
    "# )\n",
    "# is_reachable_dfs(\n",
    "#     labyrinth, \n",
    "#     (0,0), \n",
    "#     (0,4)\n",
    "# )\n",
    "#     [1,0,0,0,1],\n",
    "#     [1,0,1,1,1],\n",
    "#     [1,0,1,0,0],\n",
    "#     [1,1,1,1,1],\n",
    "#     [1,0,0,1,1]"
   ]
  },
  {
   "cell_type": "code",
   "execution_count": 75,
   "metadata": {},
   "outputs": [],
   "source": [
    "from queue import PriorityQueue"
   ]
  },
  {
   "cell_type": "code",
   "execution_count": 87,
   "metadata": {},
   "outputs": [],
   "source": [
    "pq = PriorityQueue()"
   ]
  },
  {
   "cell_type": "code",
   "execution_count": 88,
   "metadata": {},
   "outputs": [],
   "source": [
    "pq.put((3, 'A'))\n",
    "pq.put((1, 'B'))\n",
    "pq.put((2, 'C'))"
   ]
  },
  {
   "cell_type": "code",
   "execution_count": 89,
   "metadata": {},
   "outputs": [
    {
     "name": "stdout",
     "output_type": "stream",
     "text": [
      "B\n",
      "C\n",
      "A\n"
     ]
    }
   ],
   "source": [
    "print(pq.get()[1])\n",
    "print(pq.get()[1])\n",
    "print(pq.get()[1])"
   ]
  },
  {
   "cell_type": "code",
   "execution_count": 103,
   "metadata": {},
   "outputs": [],
   "source": [
    "def shortest_path_bfs(labyrinth, source, target):\n",
    "    infinity = len(labyrinth) * len(labyrinth[0])\n",
    "    scanned_cells = set()\n",
    "    cells_to_scan = PriorityQueue()\n",
    "    cells_to_scan.put((0, source))\n",
    "    distance_to_the_source = dict()\n",
    "    distance_to_the_source[source] = 0\n",
    "    \n",
    "    while not cells_to_scan.empty():\n",
    "        dist, cell = cells_to_scan.get()\n",
    "        if dist < distance_to_the_source.get(cell, infinity):\n",
    "            distance_to_the_source[cell] = dist\n",
    "        print(cell)\n",
    "        if cell in scanned_cells:\n",
    "            continue\n",
    "            \n",
    "        scanned_cells.add(cell)\n",
    "        for neighbor in get_all_neighbours(labyrinth, cell):\n",
    "            if neighbor not in scanned_cells:\n",
    "                cells_to_scan.put((dist + 1, neighbor))\n",
    "        \n",
    "    return distance_to_the_source.get(target, 'unreachable')"
   ]
  },
  {
   "cell_type": "code",
   "execution_count": 105,
   "metadata": {},
   "outputs": [
    {
     "name": "stdout",
     "output_type": "stream",
     "text": [
      "(0, 0)\n",
      "(1, 0)\n",
      "(1, 1)\n",
      "(1, 2)\n",
      "(2, 1)\n",
      "(1, 3)\n",
      "(2, 2)\n",
      "(2, 2)\n",
      "(3, 1)\n",
      "(2, 3)\n",
      "(2, 3)\n",
      "(3, 2)\n",
      "(3, 2)\n",
      "(3, 3)\n",
      "(3, 3)\n",
      "(4, 3)\n",
      "(4, 4)\n"
     ]
    },
    {
     "data": {
      "text/plain": [
       "8"
      ]
     },
     "execution_count": 105,
     "metadata": {},
     "output_type": "execute_result"
    }
   ],
   "source": [
    "shortest_path_bfs(labyrinth, (0,0), (4,4))"
   ]
  },
  {
   "cell_type": "code",
   "execution_count": null,
   "metadata": {},
   "outputs": [],
   "source": []
  }
 ],
 "metadata": {
  "kernelspec": {
   "display_name": "Python 3",
   "language": "python",
   "name": "python3"
  },
  "language_info": {
   "codemirror_mode": {
    "name": "ipython",
    "version": 3
   },
   "file_extension": ".py",
   "mimetype": "text/x-python",
   "name": "python",
   "nbconvert_exporter": "python",
   "pygments_lexer": "ipython3",
   "version": "3.7.6"
  },
  "varInspector": {
   "cols": {
    "lenName": 16,
    "lenType": 16,
    "lenVar": 40
   },
   "kernels_config": {
    "python": {
     "delete_cmd_postfix": "",
     "delete_cmd_prefix": "del ",
     "library": "var_list.py",
     "varRefreshCmd": "print(var_dic_list())"
    },
    "r": {
     "delete_cmd_postfix": ") ",
     "delete_cmd_prefix": "rm(",
     "library": "var_list.r",
     "varRefreshCmd": "cat(var_dic_list()) "
    }
   },
   "types_to_exclude": [
    "module",
    "function",
    "builtin_function_or_method",
    "instance",
    "_Feature"
   ],
   "window_display": false
  }
 },
 "nbformat": 4,
 "nbformat_minor": 4
}
