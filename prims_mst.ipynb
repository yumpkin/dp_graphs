{
 "cells": [
  {
   "cell_type": "markdown",
   "metadata": {},
   "source": [
    "## Prim's MST"
   ]
  },
  {
   "cell_type": "code",
   "execution_count": null,
   "metadata": {},
   "outputs": [],
   "source": [
    "import random\n",
    "from itertools import combinations, product\n",
    "from math import sqrt\n",
    "\n",
    "random.seed(42)\n",
    "n_points = 1000\n",
    "\n",
    "points = [\n",
    "    (random.random(), random.random())\n",
    "    for _ in range(n_points)\n",
    "]\n",
    "\n",
    "\n",
    "def dist(p1, p2):\n",
    "    return sqrt((p1[0] - p2[0]) ** 2 + (p1[1] - p2[1]) ** 2)\n",
    "\n",
    "\n",
    "tree = set()\n",
    "bright_side = set()\n",
    "dark_side = set()\n",
    "\n",
    "min_dist = None\n",
    "best_p1, best_p2 = None, None\n",
    "\n",
    "for p1, p2 in combinations(points, 2):\n",
    "    if min_dist is None or min_dist > dist(p1, p2):\n",
    "        min_dist = dist(p1, p2)\n",
    "        best_p1, best_p2 = p1, p2\n",
    "\n",
    "tree.add((best_p1, best_p2))\n",
    "bright_side.update({best_p1, best_p2})\n",
    "dark_side = set(points) - bright_side\n",
    "\n",
    "while len(dark_side) > 0:\n",
    "    min_dist = None\n",
    "    best_p1, best_p2 = None, None\n",
    "    for p1, p2 in product(bright_side, dark_side):\n",
    "        if min_dist is None or min_dist > dist(p1, p2):\n",
    "            min_dist = dist(p1, p2)\n",
    "            best_p1, best_p2 = p1, p2\n",
    "    tree.add((best_p1, best_p2))\n",
    "    bright_side.add(best_p2)\n",
    "    dark_side.remove(best_p2)\n",
    "\n",
    "print(tree)"
   ]
  }
 ],
 "metadata": {
  "kernelspec": {
   "display_name": "Python 3",
   "language": "python",
   "name": "python3"
  },
  "language_info": {
   "codemirror_mode": {
    "name": "ipython",
    "version": 3
   },
   "file_extension": ".py",
   "mimetype": "text/x-python",
   "name": "python",
   "nbconvert_exporter": "python",
   "pygments_lexer": "ipython3",
   "version": "3.7.6"
  }
 },
 "nbformat": 4,
 "nbformat_minor": 4
}
