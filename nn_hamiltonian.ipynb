{
 "cells": [
  {
   "cell_type": "markdown",
   "metadata": {},
   "source": [
    "## Nearest neighbour Hamiltonian circuit"
   ]
  },
  {
   "cell_type": "code",
   "execution_count": null,
   "metadata": {},
   "outputs": [],
   "source": [
    "import random\n",
    "from math import sqrt\n",
    "\n",
    "random.seed(42)\n",
    "n_points = 100\n",
    "\n",
    "points = [(random.random(), random.random()) for _ in range(n_points)]\n",
    "\n",
    "\n",
    "def dist(ip1, ip2):\n",
    "    global points\n",
    "    p1 = points[ip1]\n",
    "    p2 = points[ip2]\n",
    "    return sqrt((p1[0] - p2[0]) ** 2 + (p1[1] - p2[1]) ** 2)\n",
    "\n",
    "\n",
    "circuit = set()\n",
    "start_vertex = 0\n",
    "dark_side = set(range(n_points)) - {start_vertex}\n",
    "\n",
    "current_vertex = start_vertex\n",
    "while len(dark_side) > 0:\n",
    "    min_distance = None\n",
    "    best_v = None\n",
    "    for v in dark_side:\n",
    "        if ((min_distance is None) or\n",
    "                (min_distance > dist(current_vertex, v))):\n",
    "            min_distance = dist(current_vertex, v)\n",
    "            best_v = v\n",
    "    circuit.add((current_vertex, best_v))\n",
    "    dark_side.remove(best_v)\n",
    "    current_vertex = best_v\n",
    "\n",
    "circuit.add((current_vertex, start_vertex))\n",
    "\n",
    "\n",
    "def get_circuit_length(circuit):\n",
    "    global points\n",
    "    return sum(dist(*e) for e in circuit)\n",
    "\n",
    "\n",
    "print(circuit)\n",
    "print(get_circuit_length(circuit))"
   ]
  }
 ],
 "metadata": {
  "kernelspec": {
   "display_name": "Python 3",
   "language": "python",
   "name": "python3"
  },
  "language_info": {
   "codemirror_mode": {
    "name": "ipython",
    "version": 3
   },
   "file_extension": ".py",
   "mimetype": "text/x-python",
   "name": "python",
   "nbconvert_exporter": "python",
   "pygments_lexer": "ipython3",
   "version": "3.7.6"
  }
 },
 "nbformat": 4,
 "nbformat_minor": 4
}
