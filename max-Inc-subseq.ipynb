{
 "cells": [
  {
   "cell_type": "markdown",
   "metadata": {},
   "source": [
    "# Algorithms — class 2019-10-28"
   ]
  },
  {
   "cell_type": "markdown",
   "metadata": {},
   "source": [
    "### Simple problems on maxima"
   ]
  },
  {
   "cell_type": "code",
   "execution_count": 3,
   "metadata": {},
   "outputs": [],
   "source": [
    "# my_max([5,6,1,4,8,90,25,43,2,1]) == 90\n",
    "def my_max(a):\n",
    "    assert len(a) > 0\n",
    "    m = a[0]\n",
    "    for x in a:\n",
    "        if x > m:\n",
    "            m = x\n",
    "    return m"
   ]
  },
  {
   "cell_type": "code",
   "execution_count": 4,
   "metadata": {},
   "outputs": [],
   "source": [
    "# my_max_index([5,6,1,4,8,90,25,43,2,1]) == 5\n",
    "def my_max_index(a):\n",
    "    assert len(a) > 0\n",
    "    m_index = 0\n",
    "    for i in range(len(a)):\n",
    "        if a[m_index] < a[i]:\n",
    "            m_index = i\n",
    "    return m_index"
   ]
  },
  {
   "cell_type": "code",
   "execution_count": 5,
   "metadata": {},
   "outputs": [],
   "source": [
    "# my_max([5,6,1,4,8,90,25,43,2,1]) == 43\n",
    "def my_max_2(a):\n",
    "    assert len(a) >= 2\n",
    "    if a[0] >= a[1]:\n",
    "        m = a[0]\n",
    "        m2 = a[1]\n",
    "    else:\n",
    "        m = a[1]\n",
    "        m2 = a[0]\n",
    "    for x in a[2:]:\n",
    "        if x > m:\n",
    "            m, m2 = x, m\n",
    "        elif x > m2:\n",
    "            m2 = x\n",
    "    return m2"
   ]
  },
  {
   "cell_type": "markdown",
   "metadata": {},
   "source": [
    "# Maximal increasing sublist"
   ]
  },
  {
   "cell_type": "code",
   "execution_count": 8,
   "metadata": {},
   "outputs": [],
   "source": [
    "a = [5, 6, 1, 4, 8, 90, 25, 43, 2, 1]\n",
    "#        1 4 8 90"
   ]
  },
  {
   "cell_type": "code",
   "execution_count": 6,
   "metadata": {},
   "outputs": [],
   "source": [
    "# Leo’s algorithm\n",
    "def max_inc_sublist(a):\n",
    "    n = len(a)\n",
    "    m = 1\n",
    "    l = 1\n",
    "    maxIndex = 0\n",
    "    for i in range(1, n):\n",
    "        if (a[i] > a[i - 1]):\n",
    "            l = l + 1\n",
    "        else:\n",
    "            if (m < l):\n",
    "                m = l\n",
    "                maxIndex = i - m\n",
    "            l = 1\n",
    "    if (m < l):\n",
    "        m = l\n",
    "        maxIndex = n - m\n",
    "    for i in range(maxIndex, (m + maxIndex)):\n",
    "        print(a[i])"
   ]
  },
  {
   "cell_type": "code",
   "execution_count": 9,
   "metadata": {},
   "outputs": [
    {
     "name": "stdout",
     "output_type": "stream",
     "text": [
      "[1, 4, 8, 90]\n"
     ]
    }
   ],
   "source": [
    "# Islam’s algorithm\n",
    "def max_inc_sublist(a):\n",
    "    sublist = [[]]\n",
    "    for i in a:\n",
    "        if not sublist[-1] or sublist[-1][-1] < i:\n",
    "            sublist[-1].append(i)\n",
    "        else:\n",
    "            sublist.append([i])\n",
    "    return max(sublist, key=len)\n",
    "\n",
    "print(max_inc_sublist(a))"
   ]
  },
  {
   "cell_type": "markdown",
   "metadata": {},
   "source": [
    "#### Standalone program for maximal increasing sublist"
   ]
  },
  {
   "cell_type": "code",
   "execution_count": 2,
   "metadata": {
    "collapsed": true,
    "jupyter": {
     "outputs_hidden": true
    }
   },
   "outputs": [
    {
     "name": "stdout",
     "output_type": "stream",
     "text": [
      "7\n",
      "1\n",
      "2\n",
      "3\n",
      "4\n",
      "3\n",
      "5\n",
      "6\n",
      "The maximal increasing sublist has length 4\n"
     ]
    }
   ],
   "source": [
    "n = int(input())\n",
    "a = [int(input()) for _ in range(n)]\n",
    "m = 1\n",
    "l = 1\n",
    "maxIndex = 0\n",
    "for i in range(1, n):\n",
    "    if (a[i] > a[i - 1]):\n",
    "        l = l + 1\n",
    "    else:\n",
    "        if (m < l):\n",
    "            m = l\n",
    "            maxIndex = i - m\n",
    "        l = 1\n",
    "if (m < l):\n",
    "    m = l\n",
    "    maxIndex = n - m\n",
    "\n",
    "print(f\"The maximal increasing sublist has length {m}\")"
   ]
  },
  {
   "cell_type": "code",
   "execution_count": null,
   "metadata": {},
   "outputs": [],
   "source": [
    "n = int(input())\n",
    "m = l = 1\n",
    "cur = int(input())\n",
    "for i in range(1, n):\n",
    "    prev = cur\n",
    "    cur = int(input())\n",
    "    if cur > prev:\n",
    "        l += 1\n",
    "        if (m < l):\n",
    "            m = l\n",
    "    else:    \n",
    "        l = 1\n",
    "\n",
    "print(f\"The maximal increasing sublist has length {m}\")"
   ]
  },
  {
   "cell_type": "markdown",
   "metadata": {},
   "source": [
    "#### Maximal increasing subsequence"
   ]
  },
  {
   "cell_type": "code",
   "execution_count": null,
   "metadata": {},
   "outputs": [],
   "source": [
    "a = [5, 6, 1, 4, 8, 90, 25, 43, 2, 1]\n",
    "#          1  4  8      25  43"
   ]
  },
  {
   "cell_type": "code",
   "execution_count": 11,
   "metadata": {},
   "outputs": [
    {
     "data": {
      "text/plain": [
       "5"
      ]
     },
     "execution_count": 11,
     "metadata": {},
     "output_type": "execute_result"
    }
   ],
   "source": [
    "def max_inc_subsequence_length(a):\n",
    "    labels = [None] * len(a)\n",
    "    \n",
    "    for i in range(len(a)):\n",
    "        good_labels = [labels[j] for j in range(i) if a[j] < a[i]]\n",
    "        if good_labels == []:\n",
    "            labels[i] = 1\n",
    "        else:\n",
    "            labels[i] = 1 + max(good_labels)\n",
    "\n",
    "    return max(labels)\n",
    "\n",
    "max_inc_subsequence_length([5, 6, 1, 4, 8, 90, 25, 43, 2, 1])"
   ]
  },
  {
   "cell_type": "code",
   "execution_count": 13,
   "metadata": {},
   "outputs": [
    {
     "data": {
      "text/plain": [
       "[5, 6, 8, 25, 43]"
      ]
     },
     "execution_count": 13,
     "metadata": {},
     "output_type": "execute_result"
    }
   ],
   "source": [
    "def max_inc_subsequence_length(a):\n",
    "    labels = [None] * len(a)\n",
    "\n",
    "    for i in range(len(a)):\n",
    "        good_labels = [labels[j] for j in range(i) if a[j] < a[i]]\n",
    "        if good_labels == []:\n",
    "            labels[i] = [a[i]]\n",
    "        else:\n",
    "            labels[i] =  max(good_labels, key=len) + [a[i]]\n",
    "\n",
    "    return max(labels, key=len)\n",
    "\n",
    "max_inc_subsequence_length([5, 6, 1, 4, 8, 90, 25, 43, 2, 1])"
   ]
  },
  {
   "cell_type": "code",
   "execution_count": 24,
   "metadata": {},
   "outputs": [
    {
     "data": {
      "text/plain": [
       "[0, 1, 4, 6, 7]"
      ]
     },
     "execution_count": 24,
     "metadata": {},
     "output_type": "execute_result"
    }
   ],
   "source": [
    "def max_inc_subsequence_length(a):\n",
    "    labels = [None] * len(a)\n",
    "    ref = [None] * len(a)\n",
    "    for i in range(len(a)):\n",
    "        good_positions = [j for j in range(i) if a[j] < a[i]]\n",
    "        \n",
    "        if good_positions == []:\n",
    "            labels[i] = 1\n",
    "            ref[i] = None\n",
    "        else:\n",
    "            max_j = good_positions[0]\n",
    "            for j in good_positions:\n",
    "                if labels[j] > labels[max_j]:\n",
    "                    max_j = j\n",
    "            ref[i] = max_j\n",
    "            labels[i] = 1 + labels[j]\n",
    "    \n",
    "    j_max = 0\n",
    "    for j in range(len(a)):\n",
    "        if labels[j] > labels[j_max]:\n",
    "            j_max = j\n",
    "    j = j_max\n",
    "#     while j is not None:\n",
    "#         print(a[j])\n",
    "#         j = ref[j]\n",
    "    seq = [j_max]\n",
    "    while seq[0] is not None:\n",
    "        seq = [ref[seq[0]]] + seq\n",
    "    return seq[1:]\n",
    "#     return [a[j] for j in seq[1:]]\n",
    "\n",
    "max_inc_subsequence_length([5, 6, 1, 4, 8, 90, 25, 43, 2, 1])"
   ]
  },
  {
   "cell_type": "code",
   "execution_count": null,
   "metadata": {},
   "outputs": [],
   "source": []
  }
 ],
 "metadata": {
  "kernelspec": {
   "display_name": "Python 3",
   "language": "python",
   "name": "python3"
  },
  "language_info": {
   "codemirror_mode": {
    "name": "ipython",
    "version": 3
   },
   "file_extension": ".py",
   "mimetype": "text/x-python",
   "name": "python",
   "nbconvert_exporter": "python",
   "pygments_lexer": "ipython3",
   "version": "3.7.6"
  },
  "varInspector": {
   "cols": {
    "lenName": 16,
    "lenType": 16,
    "lenVar": 40
   },
   "kernels_config": {
    "python": {
     "delete_cmd_postfix": "",
     "delete_cmd_prefix": "del ",
     "library": "var_list.py",
     "varRefreshCmd": "print(var_dic_list())"
    },
    "r": {
     "delete_cmd_postfix": ") ",
     "delete_cmd_prefix": "rm(",
     "library": "var_list.r",
     "varRefreshCmd": "cat(var_dic_list()) "
    }
   },
   "types_to_exclude": [
    "module",
    "function",
    "builtin_function_or_method",
    "instance",
    "_Feature"
   ],
   "window_display": false
  }
 },
 "nbformat": 4,
 "nbformat_minor": 4
}
