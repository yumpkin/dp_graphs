{
 "cells": [
  {
   "cell_type": "markdown",
   "metadata": {},
   "source": [
    "## Longest Subsequence"
   ]
  },
  {
   "cell_type": "markdown",
   "metadata": {},
   "source": [
    "### Longest Unimodal Subsequence (increase then decrease)"
   ]
  },
  {
   "cell_type": "code",
   "execution_count": null,
   "metadata": {},
   "outputs": [],
   "source": [
    "seq = list(map(int, input().split()))\n",
    "\n",
    "length_les1 = [None] * len(seq)\n",
    "length_lds1 = [None] * len(seq)\n",
    "\n",
    "for position in range(len(seq)):\n",
    "    element = seq[position]\n",
    "    \n",
    "    length_les1[position] = 1 + max([length_les1[j] for j in range(position) if seq[j] <= element],default=0)\n",
    "    length_lds1[position] = 1 + max([length_les1[j] for j in range(position) if seq[j] >= element],default=0)\n",
    "\n",
    "length_les2 = [None] * len(seq)\n",
    "length_lds2 = [None] * len(seq)\n",
    "\n",
    "\n",
    "            \n",
    "for position in range(len(seq) - 1, -1, -1):\n",
    "    element = seq[position]\n",
    "    \n",
    "    length_les2[position] = 1 + max([length_lds2[j] for j in range(position + 1, len(seq)) if seq[j] >= element],default=0)\n",
    "    length_lds2[position] = 1 + max([length_lds2[j] for j in range(position + 1, len(seq)) if seq[j] <= element],default=0)\n",
    "    \n",
    "\n",
    "length_lus1 = [length_les1[i] + length_lds2[i] - 1 for i in range(len(seq))]\n",
    "length_lus2 = [length_les2[i] + length_lds1[i] - 1 for i in range(len(seq))]\n",
    "\n",
    "m1 = max(length_lus1)\n",
    "m2 = max(length_lus2)\n",
    "\n",
    "print(m1)\n",
    "print(m2)"
   ]
  },
  {
   "cell_type": "markdown",
   "metadata": {},
   "source": [
    "#### Printing the lenght of the bitonic subsequence"
   ]
  },
  {
   "cell_type": "code",
   "execution_count": 34,
   "metadata": {},
   "outputs": [
    {
     "name": "stdout",
     "output_type": "stream",
     "text": [
      "4 5 3 6 7 8 1 4 5\n"
     ]
    },
    {
     "data": {
      "text/plain": [
       "6"
      ]
     },
     "execution_count": 34,
     "metadata": {},
     "output_type": "execute_result"
    }
   ],
   "source": [
    "def get_lus():\n",
    "    length_of_les = [None] * len(seq)\n",
    "    for cur_position in range(len(seq)):\n",
    "        cur_element = seq[cur_position]\n",
    "        length_of_les[cur_position] = 1 + max(\n",
    "            [\n",
    "                length_of_les[j] \n",
    "                for j in range(cur_position) \n",
    "                if seq[j] <= cur_element\n",
    "            ],\n",
    "            default=0\n",
    "        )\n",
    "    length_of_lds = [None] * len(seq)\n",
    "    for cur_position in range(len(seq)-1, -1, -1):\n",
    "        cur_element = seq[cur_position]\n",
    "        length_of_lds[cur_position] = 1 + max(\n",
    "            [\n",
    "                length_of_lds[j] \n",
    "                for j in range(cur_position + 1, len(seq)) \n",
    "                if seq[j] <= cur_element\n",
    "            ],\n",
    "            default=0\n",
    "        )\n",
    "    length_of_lus = [\n",
    "        length_of_les[i] + length_of_lds[i] - 1\n",
    "        for i in range(len(seq))\n",
    "    ]\n",
    "    return max(length_of_lus)\n",
    "\n",
    "seq = list(map(int, input().split())) \n",
    "get_lus()"
   ]
  },
  {
   "cell_type": "markdown",
   "metadata": {},
   "source": [
    "#### An attempt to solve bimodal subsequence (3 neighbourhoods)"
   ]
  },
  {
   "cell_type": "code",
   "execution_count": null,
   "metadata": {},
   "outputs": [],
   "source": [
    "def get_lus():\n",
    "    \n",
    "    length_of_lis = [None] * len(seq)\n",
    "    for cur_position in range(len(seq)):\n",
    "        cur_element = seq[cur_position]\n",
    "        length_of_lis[cur_position] = 1 + max(\n",
    "            [\n",
    "                length_of_lis[j]\n",
    "                for j in range(cur_position) \n",
    "                if seq[j] <= cur_element\n",
    "            ],\n",
    "            default=0\n",
    "        )\n",
    "        \n",
    "    length_of_lds = [None] * len(seq)\n",
    "    for cur_position in range(len(seq)-1, -1, -1):\n",
    "        cur_element = seq[cur_position]\n",
    "        length_of_lds[cur_position] = 1 + max(\n",
    "            [\n",
    "                length_of_lds[j] \n",
    "                for j in range(cur_position + 1, len(seq)) \n",
    "                if seq[j] <= cur_element\n",
    "            ],\n",
    "            default=0\n",
    "        )\n",
    "        \n",
    "    length_of_lis2 = [None] * len(seq)\n",
    "    \n",
    "    for cur_position in range(-1, len(seq)):\n",
    "        cur_element = seq[cur_position]\n",
    "        length_of_lis2[cur_position] = 1 + max(\n",
    "            [\n",
    "                length_of_lis[j] \n",
    "                for j in range(cur_position + 1, len(seq)) \n",
    "                if seq[j] >= cur_element\n",
    "            ],\n",
    "            default=0\n",
    "        )\n",
    "        \n",
    "    length_of_lus = [\n",
    "        length_of_lis[i] + length_of_lds[i] + length_of_lis2[i] - 1 - 1\n",
    "        for i in range(len(seq))\n",
    "    ]\n",
    "    return max(length_of_lus)"
   ]
  },
  {
   "cell_type": "markdown",
   "metadata": {},
   "source": [
    "### Plotting Original sequence"
   ]
  },
  {
   "cell_type": "code",
   "execution_count": 19,
   "metadata": {},
   "outputs": [
    {
     "name": "stdout",
     "output_type": "stream",
     "text": [
      "7 3 5 6 12 1 4 1 5 8 3 25 13 17\n"
     ]
    },
    {
     "data": {
      "image/png": "[encoded data removed]",
      "text/plain": [
       "<Figure size 432x288 with 1 Axes>"
      ]
     },
     "metadata": {
      "needs_background": "light"
     },
     "output_type": "display_data"
    }
   ],
   "source": [
    "import matplotlib.pyplot as plt\n",
    "x = y = list(range(100))\n",
    "idx = list(map(int, input().split()))\n",
    "new_y = [y[i] for i in idx]\n",
    "plt.plot(range(len(idx)), new_y, 'o-')\n",
    "plt.xticks(range(len(idx)),idx)\n",
    "plt.grid()\n",
    "plt.show()"
   ]
  },
  {
   "cell_type": "markdown",
   "metadata": {},
   "source": [
    "### Plotting the Bimodal subsequence"
   ]
  },
  {
   "cell_type": "code",
   "execution_count": 20,
   "metadata": {},
   "outputs": [
    {
     "name": "stdout",
     "output_type": "stream",
     "text": [
      "3 5 6 12 13 17\n"
     ]
    },
    {
     "data": {
      "image/png": "[encoded data removed]",
      "text/plain": [
       "<Figure size 432x288 with 1 Axes>"
      ]
     },
     "metadata": {
      "needs_background": "light"
     },
     "output_type": "display_data"
    }
   ],
   "source": [
    "import matplotlib.pyplot as plt\n",
    "x = y = list(range(100))\n",
    "idx = list(map(int, input().split()))\n",
    "new_y = [y[i] for i in idx]\n",
    "plt.plot(range(len(idx)), new_y, 'o-')\n",
    "plt.xticks(range(len(idx)),idx)\n",
    "plt.grid()\n",
    "plt.show()"
   ]
  }
 ],
 "metadata": {
  "kernelspec": {
   "display_name": "Python 3",
   "language": "python",
   "name": "python3"
  },
  "language_info": {
   "codemirror_mode": {
    "name": "ipython",
    "version": 3
   },
   "file_extension": ".py",
   "mimetype": "text/x-python",
   "name": "python",
   "nbconvert_exporter": "python",
   "pygments_lexer": "ipython3",
   "version": "3.7.6"
  }
 },
 "nbformat": 4,
 "nbformat_minor": 4
}
