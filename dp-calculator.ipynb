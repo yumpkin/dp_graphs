{
 "cells": [
  {
   "cell_type": "markdown",
   "metadata": {},
   "source": [
    "# Number of programs"
   ]
  },
  {
   "cell_type": "markdown",
   "metadata": {},
   "source": [
    "# basic\n",
    "Two buttons A and B"
   ]
  },
  {
   "cell_type": "code",
   "execution_count": 5,
   "metadata": {},
   "outputs": [],
   "source": [
    "def len_of_best_code(initial_number, resulting_number):\n",
    "    answer = {initial_number: 0}\n",
    "    for k in range(initial_number+1, resulting_number+1):\n",
    "        if k % 3 == 0 and k//3 >= initial_number:\n",
    "            answer[k] = 1 + min(answer[k-1], answer[k//3])\n",
    "        else:\n",
    "            answer[k] = 1 + answer[k-1]\n",
    "    return answer[resulting_number]"
   ]
  },
  {
   "cell_type": "code",
   "execution_count": 15,
   "metadata": {},
   "outputs": [
    {
     "name": "stdout",
     "output_type": "stream",
     "text": [
      "5\n",
      "7\n",
      "19\n"
     ]
    }
   ],
   "source": [
    "print(len_of_best_code(2, 39))\n",
    "print(len_of_best_code(7, 39))\n",
    "print(len_of_best_code(20, 39))"
   ]
  },
  {
   "cell_type": "code",
   "execution_count": 24,
   "metadata": {},
   "outputs": [
    {
     "name": "stdout",
     "output_type": "stream",
     "text": [
      "7\n"
     ]
    }
   ],
   "source": [
    "def calculator(first, final):\n",
    "    steps = 0\n",
    "    while final > first:\n",
    "        if final % 3 == 0 and final//3 >= first:\n",
    "            final //= 3\n",
    "            steps += 1\n",
    "        else:\n",
    "            final -= 1\n",
    "            steps += 1\n",
    "\n",
    "    print(steps)\n",
    "calculator(7, 39)"
   ]
  },
  {
   "cell_type": "code",
   "execution_count": 31,
   "metadata": {},
   "outputs": [
    {
     "data": {
      "text/plain": [
       "'AABAB'"
      ]
     },
     "execution_count": 31,
     "metadata": {},
     "output_type": "execute_result"
    }
   ],
   "source": [
    "def len_of_best_code(initial_number, resulting_number):\n",
    "    answer = {initial_number: \"\"}\n",
    "    for k in range(initial_number+1, resulting_number+1):\n",
    "        if k % 3 == 0 and k//3 >= initial_number:\n",
    "            if len(answer[k-1]) < len(answer[k//3]):\n",
    "                answer[k] = answer[k-1] + \"A\"\n",
    "            else:\n",
    "                answer[k] = answer[k//3] + \"B\"\n",
    "        else:\n",
    "            answer[k] = answer[k-1] + \"A\"\n",
    "    return answer[resulting_number]\n",
    "len_of_best_code(2, 39)"
   ]
  },
  {
   "cell_type": "code",
   "execution_count": 1,
   "metadata": {},
   "outputs": [
    {
     "data": {
      "text/plain": [
       "28"
      ]
     },
     "execution_count": 1,
     "metadata": {},
     "output_type": "execute_result"
    }
   ],
   "source": [
    "def number_of_programs(initial_number, resulting_number):\n",
    "    answer = {initial_number: 1}\n",
    "    for k in range(initial_number+1, resulting_number+1):\n",
    "        if k % 3 == 0 and k//3 >= initial_number:\n",
    "            answer[k] = answer[k-1] + answer[k//3]\n",
    "        else:\n",
    "            answer[k] = answer[k-1]\n",
    "    return answer[resulting_number]\n",
    "number_of_programs(2, 39)"
   ]
  },
  {
   "cell_type": "code",
   "execution_count": 37,
   "metadata": {},
   "outputs": [
    {
     "name": "stdout",
     "output_type": "stream",
     "text": [
      "['AAAAAAAAAAAAAAAAAAAAAAAAAAAAAAAAAAAAA', 'BAAAAAAAAAAAAAAAAAAAAAAAAAAAAAAAAA', 'ABAAAAAAAAAAAAAAAAAAAAAAAAAAAAAA', 'AABAAAAAAAAAAAAAAAAAAAAAAAAAAA', 'AAABAAAAAAAAAAAAAAAAAAAAAAAA', 'AAAABAAAAAAAAAAAAAAAAAAAAA', 'BBAAAAAAAAAAAAAAAAAAAAA', 'AAAAABAAAAAAAAAAAAAAAAAA', 'BABAAAAAAAAAAAAAAAAAA', 'AAAAAABAAAAAAAAAAAAAAA', 'BAABAAAAAAAAAAAAAAA', 'AAAAAAABAAAAAAAAAAAA', 'BAAABAAAAAAAAAAAA', 'ABBAAAAAAAAAAAA', 'AAAAAAAABAAAAAAAAA', 'BAAAABAAAAAAAAA', 'ABABAAAAAAAAA', 'AAAAAAAAABAAAAAA', 'BAAAAABAAAAAA', 'ABAABAAAAAA', 'AAAAAAAAAABAAA', 'BAAAAAABAAA', 'ABAAABAAA', 'AABBAAA', 'AAAAAAAAAAAB', 'BAAAAAAAB', 'ABAAAAB', 'AABAB']\n"
     ]
    }
   ],
   "source": [
    "def list_all_programs(initial_number, resulting_number):\n",
    "    answer = {initial_number: [\"\"]}\n",
    "    for k in range(initial_number+1, resulting_number+1):\n",
    "        if k % 3 == 0 and k//3 >= initial_number:\n",
    "            answer[k] = (\n",
    "                [\n",
    "                    p + \"A\" \n",
    "                    for p in answer[k-1]\n",
    "                ] \n",
    "                + \n",
    "                [\n",
    "                    p + \"B\"\n",
    "                    for p in answer[k//3]\n",
    "                ]\n",
    "            )\n",
    "        else:\n",
    "            answer[k] = [p + \"A\" for p in answer[k-1]]\n",
    "    return answer[resulting_number]\n",
    "print(list_all_programs(2, 39))"
   ]
  },
  {
   "cell_type": "code",
   "execution_count": null,
   "metadata": {},
   "outputs": [],
   "source": []
  },
  {
   "cell_type": "markdown",
   "metadata": {},
   "source": [
    "Let's say we have a calculator with five buttons:\n",
    "\n",
    "* multiply the current number on screen by 2 and subtract 1\n",
    "* add 3 to the current number on screen\n",
    "\n",
    "Determine the number of programs (consisting of only commands A and B) that turn the first of the input numbers into the second one. See examples below. Both numbers are assumed to be greater or equal to 2."
   ]
  },
  {
   "cell_type": "code",
   "execution_count": null,
   "metadata": {},
   "outputs": [],
   "source": [
    "x = int(input())\n",
    "y = int(input())\n",
    "num_of_programs = [None] * (y + 1)\n",
    "\n",
    "for i in range(x):\n",
    "    num_of_programs[i] = 0\n",
    "\n",
    "num_of_programs[x] = 1\n",
    "\n",
    "for i in range(x + 1, y + 1):\n",
    "    num_of_programs[i] = 0\n",
    "    if i % 2 == 1 and (i + 1) // 2 >= x:\n",
    "        num_of_programs[i] += num_of_programs[(i + 1) // 2]\n",
    "    if i - 3 >= x:\n",
    "        num_of_programs[i] += num_of_programs[i - 3]\n",
    "\n",
    "print(num_of_programs[y])"
   ]
  },
  {
   "cell_type": "markdown",
   "metadata": {},
   "source": [
    "Let's say we have a calculator with five buttons:\n",
    "\n",
    "* multiply the current number on screen by 2\n",
    "* multiply the current number on screen by 3\n",
    "* add 5 to the current number on screen\n",
    "* add 7 to the current number on screen\n",
    "* take the square of the current number on screen\n",
    "\n",
    "For given numbers x and y, where 1 < x < y\n",
    "you need to get the number of “programs for the calculator” that will get you number y starting with number x."
   ]
  },
  {
   "cell_type": "code",
   "execution_count": null,
   "metadata": {},
   "outputs": [],
   "source": [
    "from math import sqrt\n",
    "\n",
    "x = int(input())\n",
    "y = int(input())\n",
    "\n",
    "num_of_programs = [None] * (y + 1)\n",
    "\n",
    "for i in range(x):\n",
    "    num_of_programs[i] = 0\n",
    "\n",
    "num_of_programs[x] = 1\n",
    "\n",
    "for i in range(x + 1, y + 1):\n",
    "    \n",
    "    num_of_programs[i] = 0\n",
    "    \n",
    "    if sqrt(i).is_integer() and sqrt(i) >= x:\n",
    "        num_of_programs[i] += num_of_programs[int(sqrt(i))]\n",
    "    \n",
    "    if i % 2 == 1 and (i) // 2 >= x:\n",
    "        num_of_programs[i] += num_of_programs[(i) // 2]\n",
    "        \n",
    "    if i % 3 == 1 and (i) // 3 >= x:\n",
    "        num_of_programs[i] += num_of_programs[(i) // 3]\n",
    "        \n",
    "    if i - 5 >= x:\n",
    "        num_of_programs[i] += num_of_programs[i - 5]\n",
    "        \n",
    "    if i - 7 >= x:\n",
    "        num_of_programs[i] += num_of_programs[i - 7]\n",
    "\n",
    "print(num_of_programs[y])"
   ]
  },
  {
   "cell_type": "markdown",
   "metadata": {},
   "source": [
    "### Ways to check if the number is perfect square or not:"
   ]
  },
  {
   "cell_type": "code",
   "execution_count": null,
   "metadata": {},
   "outputs": [],
   "source": [
    "from math import sqrt\n",
    "def is_perfect(n):\n",
    "    \n",
    "    if n<1:\n",
    "        return False\n",
    "    else:\n",
    "        for i in range(int(n/2)+1):\n",
    "            if (i*i)==n:\n",
    "                return True\n",
    "        return False"
   ]
  },
  {
   "cell_type": "code",
   "execution_count": null,
   "metadata": {},
   "outputs": [],
   "source": [
    "from math import sqrt\n",
    "def is_perfect(number):\n",
    "    root = sqrt(number)\n",
    "    if int(root + 0.5) ** 2 == number:\n",
    "        return True\n",
    "    else:\n",
    "        return False"
   ]
  },
  {
   "cell_type": "code",
   "execution_count": null,
   "metadata": {},
   "outputs": [],
   "source": [
    "def is_square(apositiveint):\n",
    "  x = apositiveint // 2\n",
    "  seen = set([x])\n",
    "  while x * x != apositiveint:\n",
    "    x = (x + (apositiveint // x)) // 2\n",
    "    if x in seen: return False\n",
    "    seen.add(x)\n",
    "  return True\n",
    "\n",
    "for i in range(110, 130):\n",
    "   print i, is_square(i)"
   ]
  },
  {
   "cell_type": "code",
   "execution_count": null,
   "metadata": {},
   "outputs": [],
   "source": [
    "def is_perfect_square(n):\n",
    "    x = n // 2\n",
    "    y = set([x])\n",
    "    while x * x != n:\n",
    "        x = (x + (n // x)) // 2\n",
    "        if x in y: return False\n",
    "        y.add(x)\n",
    "    return True"
   ]
  }
 ],
 "metadata": {
  "kernelspec": {
   "display_name": "Python 3",
   "language": "python",
   "name": "python3"
  },
  "language_info": {
   "codemirror_mode": {
    "name": "ipython",
    "version": 3
   },
   "file_extension": ".py",
   "mimetype": "text/x-python",
   "name": "python",
   "nbconvert_exporter": "python",
   "pygments_lexer": "ipython3",
   "version": "3.7.6"
  }
 },
 "nbformat": 4,
 "nbformat_minor": 4
}
